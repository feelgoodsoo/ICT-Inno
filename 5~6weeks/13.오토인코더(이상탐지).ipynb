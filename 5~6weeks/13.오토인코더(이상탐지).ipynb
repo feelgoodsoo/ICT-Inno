{
 "cells": [
  {
   "cell_type": "markdown",
   "id": "5514f893",
   "metadata": {},
   "source": [
    "<img src='https://pebpung.github.io/assets/img/2021-09-11/AutoEncoder-1/Untitled.png'>"
   ]
  },
  {
   "cell_type": "markdown",
   "id": "e9cf241c",
   "metadata": {},
   "source": [
    "<img src='https://velog.velcdn.com/images/nayeon_p00/post/ea531fd4-9078-467b-b9e6-9f176d2fa0a5/image.png'>"
   ]
  },
  {
   "cell_type": "code",
   "execution_count": 1,
   "id": "bc0b470e",
   "metadata": {},
   "outputs": [],
   "source": [
    "import tensorflow as tf\n",
    "import pandas as pd\n",
    "import numpy as np\n",
    "import matplotlib.pyplot as plt\n",
    "from tensorflow.keras.layers import Dense, Input\n",
    "from tensorflow.keras import Sequential, Model\n",
    "from tensorflow.keras.optimizers import Adam\n",
    "\n",
    "plt.rc('font', family='Malgun Gothic')"
   ]
  },
  {
   "cell_type": "markdown",
   "id": "8df9c2db",
   "metadata": {},
   "source": [
    "데이터셋에 있는 모든 변수는 수치 데이터입니다. 데이터는 개인 정보보호 문제로 인해 PCA 변환 과정을 거쳤습니다. 딱 두 가지 변환하지 않은 것은 시간(Time)과 거래액(Amount)입니다. 시간은 데이터셋 내 첫번째 거래가 이루어진 시점부터 각 거래가 이루어진 시점 사이의 시간을 초(second) 단위로 기록한 것"
   ]
  },
  {
   "cell_type": "markdown",
   "id": "6036db8a",
   "metadata": {},
   "source": [
    "총 284,807 건의 거래데이터가 있으며 각 Column 정보는 아래와 같습니다.\n",
    "\n",
    "- V1 ~ V28 : 개인정보로 공개되지 않은 값\n",
    "- Time : 시간\n",
    "- Amount : 거래금액\n",
    "- Class : 사기 여부 (1: 사기, 0: 정상)\n",
    "- 총 31개 Column이 있으며 이 중 시간과 거래금액을 뺀 V1 ~ V28 데이터로 부터 사기 여부(Class)를 예측"
   ]
  },
  {
   "cell_type": "code",
   "execution_count": 2,
   "id": "bd3e5fe4",
   "metadata": {
    "collapsed": true
   },
   "outputs": [
    {
     "data": {
      "text/html": [
       "<div>\n",
       "<style scoped>\n",
       "    .dataframe tbody tr th:only-of-type {\n",
       "        vertical-align: middle;\n",
       "    }\n",
       "\n",
       "    .dataframe tbody tr th {\n",
       "        vertical-align: top;\n",
       "    }\n",
       "\n",
       "    .dataframe thead th {\n",
       "        text-align: right;\n",
       "    }\n",
       "</style>\n",
       "<table border=\"1\" class=\"dataframe\">\n",
       "  <thead>\n",
       "    <tr style=\"text-align: right;\">\n",
       "      <th></th>\n",
       "      <th>Time</th>\n",
       "      <th>V1</th>\n",
       "      <th>V2</th>\n",
       "      <th>V3</th>\n",
       "      <th>V4</th>\n",
       "      <th>V5</th>\n",
       "      <th>V6</th>\n",
       "      <th>V7</th>\n",
       "      <th>V8</th>\n",
       "      <th>V9</th>\n",
       "      <th>...</th>\n",
       "      <th>V21</th>\n",
       "      <th>V22</th>\n",
       "      <th>V23</th>\n",
       "      <th>V24</th>\n",
       "      <th>V25</th>\n",
       "      <th>V26</th>\n",
       "      <th>V27</th>\n",
       "      <th>V28</th>\n",
       "      <th>Amount</th>\n",
       "      <th>Class</th>\n",
       "    </tr>\n",
       "  </thead>\n",
       "  <tbody>\n",
       "    <tr>\n",
       "      <th>0</th>\n",
       "      <td>0.0</td>\n",
       "      <td>-1.359807</td>\n",
       "      <td>-0.072781</td>\n",
       "      <td>2.536347</td>\n",
       "      <td>1.378155</td>\n",
       "      <td>-0.338321</td>\n",
       "      <td>0.462388</td>\n",
       "      <td>0.239599</td>\n",
       "      <td>0.098698</td>\n",
       "      <td>0.363787</td>\n",
       "      <td>...</td>\n",
       "      <td>-0.018307</td>\n",
       "      <td>0.277838</td>\n",
       "      <td>-0.110474</td>\n",
       "      <td>0.066928</td>\n",
       "      <td>0.128539</td>\n",
       "      <td>-0.189115</td>\n",
       "      <td>0.133558</td>\n",
       "      <td>-0.021053</td>\n",
       "      <td>149.62</td>\n",
       "      <td>0</td>\n",
       "    </tr>\n",
       "    <tr>\n",
       "      <th>1</th>\n",
       "      <td>0.0</td>\n",
       "      <td>1.191857</td>\n",
       "      <td>0.266151</td>\n",
       "      <td>0.166480</td>\n",
       "      <td>0.448154</td>\n",
       "      <td>0.060018</td>\n",
       "      <td>-0.082361</td>\n",
       "      <td>-0.078803</td>\n",
       "      <td>0.085102</td>\n",
       "      <td>-0.255425</td>\n",
       "      <td>...</td>\n",
       "      <td>-0.225775</td>\n",
       "      <td>-0.638672</td>\n",
       "      <td>0.101288</td>\n",
       "      <td>-0.339846</td>\n",
       "      <td>0.167170</td>\n",
       "      <td>0.125895</td>\n",
       "      <td>-0.008983</td>\n",
       "      <td>0.014724</td>\n",
       "      <td>2.69</td>\n",
       "      <td>0</td>\n",
       "    </tr>\n",
       "    <tr>\n",
       "      <th>2</th>\n",
       "      <td>1.0</td>\n",
       "      <td>-1.358354</td>\n",
       "      <td>-1.340163</td>\n",
       "      <td>1.773209</td>\n",
       "      <td>0.379780</td>\n",
       "      <td>-0.503198</td>\n",
       "      <td>1.800499</td>\n",
       "      <td>0.791461</td>\n",
       "      <td>0.247676</td>\n",
       "      <td>-1.514654</td>\n",
       "      <td>...</td>\n",
       "      <td>0.247998</td>\n",
       "      <td>0.771679</td>\n",
       "      <td>0.909412</td>\n",
       "      <td>-0.689281</td>\n",
       "      <td>-0.327642</td>\n",
       "      <td>-0.139097</td>\n",
       "      <td>-0.055353</td>\n",
       "      <td>-0.059752</td>\n",
       "      <td>378.66</td>\n",
       "      <td>0</td>\n",
       "    </tr>\n",
       "    <tr>\n",
       "      <th>3</th>\n",
       "      <td>1.0</td>\n",
       "      <td>-0.966272</td>\n",
       "      <td>-0.185226</td>\n",
       "      <td>1.792993</td>\n",
       "      <td>-0.863291</td>\n",
       "      <td>-0.010309</td>\n",
       "      <td>1.247203</td>\n",
       "      <td>0.237609</td>\n",
       "      <td>0.377436</td>\n",
       "      <td>-1.387024</td>\n",
       "      <td>...</td>\n",
       "      <td>-0.108300</td>\n",
       "      <td>0.005274</td>\n",
       "      <td>-0.190321</td>\n",
       "      <td>-1.175575</td>\n",
       "      <td>0.647376</td>\n",
       "      <td>-0.221929</td>\n",
       "      <td>0.062723</td>\n",
       "      <td>0.061458</td>\n",
       "      <td>123.50</td>\n",
       "      <td>0</td>\n",
       "    </tr>\n",
       "    <tr>\n",
       "      <th>4</th>\n",
       "      <td>2.0</td>\n",
       "      <td>-1.158233</td>\n",
       "      <td>0.877737</td>\n",
       "      <td>1.548718</td>\n",
       "      <td>0.403034</td>\n",
       "      <td>-0.407193</td>\n",
       "      <td>0.095921</td>\n",
       "      <td>0.592941</td>\n",
       "      <td>-0.270533</td>\n",
       "      <td>0.817739</td>\n",
       "      <td>...</td>\n",
       "      <td>-0.009431</td>\n",
       "      <td>0.798278</td>\n",
       "      <td>-0.137458</td>\n",
       "      <td>0.141267</td>\n",
       "      <td>-0.206010</td>\n",
       "      <td>0.502292</td>\n",
       "      <td>0.219422</td>\n",
       "      <td>0.215153</td>\n",
       "      <td>69.99</td>\n",
       "      <td>0</td>\n",
       "    </tr>\n",
       "    <tr>\n",
       "      <th>...</th>\n",
       "      <td>...</td>\n",
       "      <td>...</td>\n",
       "      <td>...</td>\n",
       "      <td>...</td>\n",
       "      <td>...</td>\n",
       "      <td>...</td>\n",
       "      <td>...</td>\n",
       "      <td>...</td>\n",
       "      <td>...</td>\n",
       "      <td>...</td>\n",
       "      <td>...</td>\n",
       "      <td>...</td>\n",
       "      <td>...</td>\n",
       "      <td>...</td>\n",
       "      <td>...</td>\n",
       "      <td>...</td>\n",
       "      <td>...</td>\n",
       "      <td>...</td>\n",
       "      <td>...</td>\n",
       "      <td>...</td>\n",
       "      <td>...</td>\n",
       "    </tr>\n",
       "    <tr>\n",
       "      <th>284802</th>\n",
       "      <td>172786.0</td>\n",
       "      <td>-11.881118</td>\n",
       "      <td>10.071785</td>\n",
       "      <td>-9.834783</td>\n",
       "      <td>-2.066656</td>\n",
       "      <td>-5.364473</td>\n",
       "      <td>-2.606837</td>\n",
       "      <td>-4.918215</td>\n",
       "      <td>7.305334</td>\n",
       "      <td>1.914428</td>\n",
       "      <td>...</td>\n",
       "      <td>0.213454</td>\n",
       "      <td>0.111864</td>\n",
       "      <td>1.014480</td>\n",
       "      <td>-0.509348</td>\n",
       "      <td>1.436807</td>\n",
       "      <td>0.250034</td>\n",
       "      <td>0.943651</td>\n",
       "      <td>0.823731</td>\n",
       "      <td>0.77</td>\n",
       "      <td>0</td>\n",
       "    </tr>\n",
       "    <tr>\n",
       "      <th>284803</th>\n",
       "      <td>172787.0</td>\n",
       "      <td>-0.732789</td>\n",
       "      <td>-0.055080</td>\n",
       "      <td>2.035030</td>\n",
       "      <td>-0.738589</td>\n",
       "      <td>0.868229</td>\n",
       "      <td>1.058415</td>\n",
       "      <td>0.024330</td>\n",
       "      <td>0.294869</td>\n",
       "      <td>0.584800</td>\n",
       "      <td>...</td>\n",
       "      <td>0.214205</td>\n",
       "      <td>0.924384</td>\n",
       "      <td>0.012463</td>\n",
       "      <td>-1.016226</td>\n",
       "      <td>-0.606624</td>\n",
       "      <td>-0.395255</td>\n",
       "      <td>0.068472</td>\n",
       "      <td>-0.053527</td>\n",
       "      <td>24.79</td>\n",
       "      <td>0</td>\n",
       "    </tr>\n",
       "    <tr>\n",
       "      <th>284804</th>\n",
       "      <td>172788.0</td>\n",
       "      <td>1.919565</td>\n",
       "      <td>-0.301254</td>\n",
       "      <td>-3.249640</td>\n",
       "      <td>-0.557828</td>\n",
       "      <td>2.630515</td>\n",
       "      <td>3.031260</td>\n",
       "      <td>-0.296827</td>\n",
       "      <td>0.708417</td>\n",
       "      <td>0.432454</td>\n",
       "      <td>...</td>\n",
       "      <td>0.232045</td>\n",
       "      <td>0.578229</td>\n",
       "      <td>-0.037501</td>\n",
       "      <td>0.640134</td>\n",
       "      <td>0.265745</td>\n",
       "      <td>-0.087371</td>\n",
       "      <td>0.004455</td>\n",
       "      <td>-0.026561</td>\n",
       "      <td>67.88</td>\n",
       "      <td>0</td>\n",
       "    </tr>\n",
       "    <tr>\n",
       "      <th>284805</th>\n",
       "      <td>172788.0</td>\n",
       "      <td>-0.240440</td>\n",
       "      <td>0.530483</td>\n",
       "      <td>0.702510</td>\n",
       "      <td>0.689799</td>\n",
       "      <td>-0.377961</td>\n",
       "      <td>0.623708</td>\n",
       "      <td>-0.686180</td>\n",
       "      <td>0.679145</td>\n",
       "      <td>0.392087</td>\n",
       "      <td>...</td>\n",
       "      <td>0.265245</td>\n",
       "      <td>0.800049</td>\n",
       "      <td>-0.163298</td>\n",
       "      <td>0.123205</td>\n",
       "      <td>-0.569159</td>\n",
       "      <td>0.546668</td>\n",
       "      <td>0.108821</td>\n",
       "      <td>0.104533</td>\n",
       "      <td>10.00</td>\n",
       "      <td>0</td>\n",
       "    </tr>\n",
       "    <tr>\n",
       "      <th>284806</th>\n",
       "      <td>172792.0</td>\n",
       "      <td>-0.533413</td>\n",
       "      <td>-0.189733</td>\n",
       "      <td>0.703337</td>\n",
       "      <td>-0.506271</td>\n",
       "      <td>-0.012546</td>\n",
       "      <td>-0.649617</td>\n",
       "      <td>1.577006</td>\n",
       "      <td>-0.414650</td>\n",
       "      <td>0.486180</td>\n",
       "      <td>...</td>\n",
       "      <td>0.261057</td>\n",
       "      <td>0.643078</td>\n",
       "      <td>0.376777</td>\n",
       "      <td>0.008797</td>\n",
       "      <td>-0.473649</td>\n",
       "      <td>-0.818267</td>\n",
       "      <td>-0.002415</td>\n",
       "      <td>0.013649</td>\n",
       "      <td>217.00</td>\n",
       "      <td>0</td>\n",
       "    </tr>\n",
       "  </tbody>\n",
       "</table>\n",
       "<p>284807 rows × 31 columns</p>\n",
       "</div>"
      ],
      "text/plain": [
       "            Time         V1         V2        V3        V4        V5  \\\n",
       "0            0.0  -1.359807  -0.072781  2.536347  1.378155 -0.338321   \n",
       "1            0.0   1.191857   0.266151  0.166480  0.448154  0.060018   \n",
       "2            1.0  -1.358354  -1.340163  1.773209  0.379780 -0.503198   \n",
       "3            1.0  -0.966272  -0.185226  1.792993 -0.863291 -0.010309   \n",
       "4            2.0  -1.158233   0.877737  1.548718  0.403034 -0.407193   \n",
       "...          ...        ...        ...       ...       ...       ...   \n",
       "284802  172786.0 -11.881118  10.071785 -9.834783 -2.066656 -5.364473   \n",
       "284803  172787.0  -0.732789  -0.055080  2.035030 -0.738589  0.868229   \n",
       "284804  172788.0   1.919565  -0.301254 -3.249640 -0.557828  2.630515   \n",
       "284805  172788.0  -0.240440   0.530483  0.702510  0.689799 -0.377961   \n",
       "284806  172792.0  -0.533413  -0.189733  0.703337 -0.506271 -0.012546   \n",
       "\n",
       "              V6        V7        V8        V9  ...       V21       V22  \\\n",
       "0       0.462388  0.239599  0.098698  0.363787  ... -0.018307  0.277838   \n",
       "1      -0.082361 -0.078803  0.085102 -0.255425  ... -0.225775 -0.638672   \n",
       "2       1.800499  0.791461  0.247676 -1.514654  ...  0.247998  0.771679   \n",
       "3       1.247203  0.237609  0.377436 -1.387024  ... -0.108300  0.005274   \n",
       "4       0.095921  0.592941 -0.270533  0.817739  ... -0.009431  0.798278   \n",
       "...          ...       ...       ...       ...  ...       ...       ...   \n",
       "284802 -2.606837 -4.918215  7.305334  1.914428  ...  0.213454  0.111864   \n",
       "284803  1.058415  0.024330  0.294869  0.584800  ...  0.214205  0.924384   \n",
       "284804  3.031260 -0.296827  0.708417  0.432454  ...  0.232045  0.578229   \n",
       "284805  0.623708 -0.686180  0.679145  0.392087  ...  0.265245  0.800049   \n",
       "284806 -0.649617  1.577006 -0.414650  0.486180  ...  0.261057  0.643078   \n",
       "\n",
       "             V23       V24       V25       V26       V27       V28  Amount  \\\n",
       "0      -0.110474  0.066928  0.128539 -0.189115  0.133558 -0.021053  149.62   \n",
       "1       0.101288 -0.339846  0.167170  0.125895 -0.008983  0.014724    2.69   \n",
       "2       0.909412 -0.689281 -0.327642 -0.139097 -0.055353 -0.059752  378.66   \n",
       "3      -0.190321 -1.175575  0.647376 -0.221929  0.062723  0.061458  123.50   \n",
       "4      -0.137458  0.141267 -0.206010  0.502292  0.219422  0.215153   69.99   \n",
       "...          ...       ...       ...       ...       ...       ...     ...   \n",
       "284802  1.014480 -0.509348  1.436807  0.250034  0.943651  0.823731    0.77   \n",
       "284803  0.012463 -1.016226 -0.606624 -0.395255  0.068472 -0.053527   24.79   \n",
       "284804 -0.037501  0.640134  0.265745 -0.087371  0.004455 -0.026561   67.88   \n",
       "284805 -0.163298  0.123205 -0.569159  0.546668  0.108821  0.104533   10.00   \n",
       "284806  0.376777  0.008797 -0.473649 -0.818267 -0.002415  0.013649  217.00   \n",
       "\n",
       "        Class  \n",
       "0           0  \n",
       "1           0  \n",
       "2           0  \n",
       "3           0  \n",
       "4           0  \n",
       "...       ...  \n",
       "284802      0  \n",
       "284803      0  \n",
       "284804      0  \n",
       "284805      0  \n",
       "284806      0  \n",
       "\n",
       "[284807 rows x 31 columns]"
      ]
     },
     "execution_count": 2,
     "metadata": {},
     "output_type": "execute_result"
    }
   ],
   "source": [
    "df = pd.read_csv('data/creditcard.csv')\n",
    "df"
   ]
  },
  {
   "cell_type": "code",
   "execution_count": 3,
   "id": "05056511",
   "metadata": {
    "scrolled": true
   },
   "outputs": [
    {
     "data": {
      "text/plain": [
       "(284807, 31)"
      ]
     },
     "execution_count": 3,
     "metadata": {},
     "output_type": "execute_result"
    }
   ],
   "source": [
    "df.shape"
   ]
  },
  {
   "cell_type": "code",
   "execution_count": 4,
   "id": "114fb3fd",
   "metadata": {},
   "outputs": [
    {
     "data": {
      "text/plain": [
       "Index(['Time', 'V1', 'V2', 'V3', 'V4', 'V5', 'V6', 'V7', 'V8', 'V9', 'V10',\n",
       "       'V11', 'V12', 'V13', 'V14', 'V15', 'V16', 'V17', 'V18', 'V19', 'V20',\n",
       "       'V21', 'V22', 'V23', 'V24', 'V25', 'V26', 'V27', 'V28', 'Amount',\n",
       "       'Class'],\n",
       "      dtype='object')"
      ]
     },
     "execution_count": 4,
     "metadata": {},
     "output_type": "execute_result"
    }
   ],
   "source": [
    "df.columns"
   ]
  },
  {
   "cell_type": "code",
   "execution_count": 5,
   "id": "c14e77eb",
   "metadata": {},
   "outputs": [],
   "source": [
    "LABELS = [\"Normal\", \"Fraud\"]"
   ]
  },
  {
   "cell_type": "markdown",
   "id": "29c11753",
   "metadata": {},
   "source": [
    "### 컬럼에 null 확인"
   ]
  },
  {
   "cell_type": "code",
   "execution_count": 6,
   "id": "3673f4ad",
   "metadata": {
    "collapsed": true
   },
   "outputs": [
    {
     "data": {
      "text/plain": [
       "Time      0\n",
       "V1        0\n",
       "V2        0\n",
       "V3        0\n",
       "V4        0\n",
       "V5        0\n",
       "V6        0\n",
       "V7        0\n",
       "V8        0\n",
       "V9        0\n",
       "V10       0\n",
       "V11       0\n",
       "V12       0\n",
       "V13       0\n",
       "V14       0\n",
       "V15       0\n",
       "V16       0\n",
       "V17       0\n",
       "V18       0\n",
       "V19       0\n",
       "V20       0\n",
       "V21       0\n",
       "V22       0\n",
       "V23       0\n",
       "V24       0\n",
       "V25       0\n",
       "V26       0\n",
       "V27       0\n",
       "V28       0\n",
       "Amount    0\n",
       "Class     0\n",
       "dtype: int64"
      ]
     },
     "execution_count": 6,
     "metadata": {},
     "output_type": "execute_result"
    }
   ],
   "source": [
    "df.isnull().sum()"
   ]
  },
  {
   "cell_type": "markdown",
   "id": "e81353b8",
   "metadata": {},
   "source": [
    "## 정상 비정상 거래수 확인"
   ]
  },
  {
   "cell_type": "code",
   "execution_count": 7,
   "id": "fab156f6",
   "metadata": {},
   "outputs": [
    {
     "data": {
      "text/plain": [
       "0    284315\n",
       "1       492\n",
       "Name: Class, dtype: int64"
      ]
     },
     "execution_count": 7,
     "metadata": {},
     "output_type": "execute_result"
    }
   ],
   "source": [
    "df['Class'].value_counts()"
   ]
  },
  {
   "cell_type": "code",
   "execution_count": 8,
   "id": "ba06b4af",
   "metadata": {},
   "outputs": [
    {
     "data": {
      "text/plain": [
       "<Axes: xlabel='분류', ylabel='거래수'>"
      ]
     },
     "execution_count": 8,
     "metadata": {},
     "output_type": "execute_result"
    },
    {
     "data": {
      "image/png": "[encoded data removed]",
      "text/plain": [
       "<Figure size 640x480 with 1 Axes>"
      ]
     },
     "metadata": {},
     "output_type": "display_data"
    }
   ],
   "source": [
    "df['Class'].value_counts().plot( kind='bar', ylabel='거래수',xlabel='분류' )"
   ]
  },
  {
   "cell_type": "code",
   "execution_count": 9,
   "id": "bd1af943",
   "metadata": {},
   "outputs": [
    {
     "data": {
      "text/plain": [
       "<Axes: ylabel='Class'>"
      ]
     },
     "execution_count": 9,
     "metadata": {},
     "output_type": "execute_result"
    },
    {
     "data": {
      "image/png": "[encoded data removed]",
      "text/plain": [
       "<Figure size 640x480 with 1 Axes>"
      ]
     },
     "metadata": {},
     "output_type": "display_data"
    }
   ],
   "source": [
    "df['Class'].value_counts().plot( kind='pie', autopct='%f')"
   ]
  },
  {
   "cell_type": "markdown",
   "id": "1ddb7091",
   "metadata": {},
   "source": [
    "### 정상거래와 비정상 거래 데이터프레임 분류"
   ]
  },
  {
   "cell_type": "code",
   "execution_count": 10,
   "id": "2da29252",
   "metadata": {},
   "outputs": [],
   "source": [
    "frauds = df[ df['Class']==1 ]\n",
    "normal = df[ df['Class']==0 ]"
   ]
  },
  {
   "cell_type": "code",
   "execution_count": 11,
   "id": "fde03698",
   "metadata": {},
   "outputs": [
    {
     "data": {
      "text/plain": [
       "(492, 31)"
      ]
     },
     "execution_count": 11,
     "metadata": {},
     "output_type": "execute_result"
    }
   ],
   "source": [
    "frauds.shape"
   ]
  },
  {
   "cell_type": "code",
   "execution_count": 12,
   "id": "10fa5ed6",
   "metadata": {},
   "outputs": [
    {
     "data": {
      "text/plain": [
       "(284315, 31)"
      ]
     },
     "execution_count": 12,
     "metadata": {},
     "output_type": "execute_result"
    }
   ],
   "source": [
    "normal.shape"
   ]
  },
  {
   "cell_type": "markdown",
   "id": "474846db",
   "metadata": {},
   "source": [
    "### 정규화"
   ]
  },
  {
   "cell_type": "code",
   "execution_count": 13,
   "id": "f1b6021f",
   "metadata": {},
   "outputs": [],
   "source": [
    "from sklearn.preprocessing import StandardScaler"
   ]
  },
  {
   "cell_type": "code",
   "execution_count": 14,
   "id": "9b1fcfa1",
   "metadata": {},
   "outputs": [],
   "source": [
    "# stdScale = StandardScaler()\n",
    "data = df.drop( columns=['Time'] )\n",
    "stdScale = StandardScaler()\n",
    "data['Amount'] = stdScale.fit_transform( data['Amount'].values.reshape(-1,1) )"
   ]
  },
  {
   "cell_type": "markdown",
   "id": "c66a9799",
   "metadata": {},
   "source": [
    "## train test 분류"
   ]
  },
  {
   "cell_type": "code",
   "execution_count": 15,
   "id": "288864c9",
   "metadata": {},
   "outputs": [],
   "source": [
    "from sklearn.model_selection import train_test_split"
   ]
  },
  {
   "cell_type": "code",
   "execution_count": 16,
   "id": "e87cb5dd",
   "metadata": {},
   "outputs": [],
   "source": [
    "X_train,X_test = train_test_split(data ,test_size=0.2 )"
   ]
  },
  {
   "cell_type": "code",
   "execution_count": 17,
   "id": "1830a66d",
   "metadata": {},
   "outputs": [],
   "source": [
    "# 정상거래 데이터로 X_train을 구성\n",
    "X_train = X_train[ X_train['Class']==0 ]\n",
    "X_train.drop( columns=['Class'] ,inplace=True)"
   ]
  },
  {
   "cell_type": "markdown",
   "id": "2634367b",
   "metadata": {},
   "source": [
    "### 정상거래의 train 데이터셋 완성"
   ]
  },
  {
   "cell_type": "code",
   "execution_count": 18,
   "id": "318c2169",
   "metadata": {},
   "outputs": [
    {
     "data": {
      "text/html": [
       "<div>\n",
       "<style scoped>\n",
       "    .dataframe tbody tr th:only-of-type {\n",
       "        vertical-align: middle;\n",
       "    }\n",
       "\n",
       "    .dataframe tbody tr th {\n",
       "        vertical-align: top;\n",
       "    }\n",
       "\n",
       "    .dataframe thead th {\n",
       "        text-align: right;\n",
       "    }\n",
       "</style>\n",
       "<table border=\"1\" class=\"dataframe\">\n",
       "  <thead>\n",
       "    <tr style=\"text-align: right;\">\n",
       "      <th></th>\n",
       "      <th>V1</th>\n",
       "      <th>V2</th>\n",
       "      <th>V3</th>\n",
       "      <th>V4</th>\n",
       "      <th>V5</th>\n",
       "      <th>V6</th>\n",
       "      <th>V7</th>\n",
       "      <th>V8</th>\n",
       "      <th>V9</th>\n",
       "      <th>V10</th>\n",
       "      <th>...</th>\n",
       "      <th>V20</th>\n",
       "      <th>V21</th>\n",
       "      <th>V22</th>\n",
       "      <th>V23</th>\n",
       "      <th>V24</th>\n",
       "      <th>V25</th>\n",
       "      <th>V26</th>\n",
       "      <th>V27</th>\n",
       "      <th>V28</th>\n",
       "      <th>Amount</th>\n",
       "    </tr>\n",
       "  </thead>\n",
       "  <tbody>\n",
       "    <tr>\n",
       "      <th>97346</th>\n",
       "      <td>-0.571288</td>\n",
       "      <td>1.041338</td>\n",
       "      <td>-0.387278</td>\n",
       "      <td>-0.270291</td>\n",
       "      <td>2.217138</td>\n",
       "      <td>3.544165</td>\n",
       "      <td>-0.202079</td>\n",
       "      <td>1.308159</td>\n",
       "      <td>-0.929643</td>\n",
       "      <td>-0.437984</td>\n",
       "      <td>...</td>\n",
       "      <td>0.037924</td>\n",
       "      <td>0.054388</td>\n",
       "      <td>-0.113607</td>\n",
       "      <td>-0.098739</td>\n",
       "      <td>0.988138</td>\n",
       "      <td>-0.058267</td>\n",
       "      <td>-0.398840</td>\n",
       "      <td>0.036315</td>\n",
       "      <td>0.080942</td>\n",
       "      <td>-0.297296</td>\n",
       "    </tr>\n",
       "    <tr>\n",
       "      <th>217179</th>\n",
       "      <td>-1.967238</td>\n",
       "      <td>0.554255</td>\n",
       "      <td>-1.299973</td>\n",
       "      <td>-0.256174</td>\n",
       "      <td>0.406781</td>\n",
       "      <td>-1.026290</td>\n",
       "      <td>0.329060</td>\n",
       "      <td>0.463318</td>\n",
       "      <td>-0.369527</td>\n",
       "      <td>-0.113892</td>\n",
       "      <td>...</td>\n",
       "      <td>-0.476551</td>\n",
       "      <td>0.446317</td>\n",
       "      <td>1.480454</td>\n",
       "      <td>0.418463</td>\n",
       "      <td>-0.270901</td>\n",
       "      <td>-0.595308</td>\n",
       "      <td>-0.249885</td>\n",
       "      <td>-0.269762</td>\n",
       "      <td>0.346845</td>\n",
       "      <td>-0.301294</td>\n",
       "    </tr>\n",
       "    <tr>\n",
       "      <th>170860</th>\n",
       "      <td>1.877437</td>\n",
       "      <td>-0.280871</td>\n",
       "      <td>-0.971661</td>\n",
       "      <td>1.361902</td>\n",
       "      <td>0.279510</td>\n",
       "      <td>0.600528</td>\n",
       "      <td>-0.154075</td>\n",
       "      <td>0.158697</td>\n",
       "      <td>0.857709</td>\n",
       "      <td>0.132167</td>\n",
       "      <td>...</td>\n",
       "      <td>-0.190473</td>\n",
       "      <td>-0.291126</td>\n",
       "      <td>-0.574839</td>\n",
       "      <td>0.186931</td>\n",
       "      <td>0.260812</td>\n",
       "      <td>0.074207</td>\n",
       "      <td>-0.847572</td>\n",
       "      <td>0.027329</td>\n",
       "      <td>-0.045030</td>\n",
       "      <td>-0.193306</td>\n",
       "    </tr>\n",
       "    <tr>\n",
       "      <th>139273</th>\n",
       "      <td>-0.594706</td>\n",
       "      <td>0.114513</td>\n",
       "      <td>1.174700</td>\n",
       "      <td>-2.719161</td>\n",
       "      <td>-0.765407</td>\n",
       "      <td>-0.561110</td>\n",
       "      <td>-0.203208</td>\n",
       "      <td>-0.033307</td>\n",
       "      <td>-2.286526</td>\n",
       "      <td>1.577055</td>\n",
       "      <td>...</td>\n",
       "      <td>-0.080776</td>\n",
       "      <td>-0.124816</td>\n",
       "      <td>0.123826</td>\n",
       "      <td>-0.110309</td>\n",
       "      <td>-0.029142</td>\n",
       "      <td>-0.229608</td>\n",
       "      <td>-0.417971</td>\n",
       "      <td>0.360552</td>\n",
       "      <td>0.262311</td>\n",
       "      <td>-0.333239</td>\n",
       "    </tr>\n",
       "    <tr>\n",
       "      <th>261706</th>\n",
       "      <td>-0.636945</td>\n",
       "      <td>1.427841</td>\n",
       "      <td>-0.396971</td>\n",
       "      <td>-0.287650</td>\n",
       "      <td>0.468410</td>\n",
       "      <td>-1.036333</td>\n",
       "      <td>0.687422</td>\n",
       "      <td>0.285131</td>\n",
       "      <td>-0.108600</td>\n",
       "      <td>-1.487623</td>\n",
       "      <td>...</td>\n",
       "      <td>-0.076668</td>\n",
       "      <td>0.068521</td>\n",
       "      <td>0.451934</td>\n",
       "      <td>-0.245942</td>\n",
       "      <td>-0.149547</td>\n",
       "      <td>-0.162394</td>\n",
       "      <td>0.590463</td>\n",
       "      <td>0.258894</td>\n",
       "      <td>0.200336</td>\n",
       "      <td>-0.333279</td>\n",
       "    </tr>\n",
       "    <tr>\n",
       "      <th>...</th>\n",
       "      <td>...</td>\n",
       "      <td>...</td>\n",
       "      <td>...</td>\n",
       "      <td>...</td>\n",
       "      <td>...</td>\n",
       "      <td>...</td>\n",
       "      <td>...</td>\n",
       "      <td>...</td>\n",
       "      <td>...</td>\n",
       "      <td>...</td>\n",
       "      <td>...</td>\n",
       "      <td>...</td>\n",
       "      <td>...</td>\n",
       "      <td>...</td>\n",
       "      <td>...</td>\n",
       "      <td>...</td>\n",
       "      <td>...</td>\n",
       "      <td>...</td>\n",
       "      <td>...</td>\n",
       "      <td>...</td>\n",
       "      <td>...</td>\n",
       "    </tr>\n",
       "    <tr>\n",
       "      <th>197267</th>\n",
       "      <td>-2.196399</td>\n",
       "      <td>-0.566425</td>\n",
       "      <td>0.318139</td>\n",
       "      <td>-1.739548</td>\n",
       "      <td>1.864122</td>\n",
       "      <td>4.610533</td>\n",
       "      <td>0.436068</td>\n",
       "      <td>1.017167</td>\n",
       "      <td>0.965939</td>\n",
       "      <td>-1.000817</td>\n",
       "      <td>...</td>\n",
       "      <td>-0.405200</td>\n",
       "      <td>-0.407007</td>\n",
       "      <td>-0.586640</td>\n",
       "      <td>0.022877</td>\n",
       "      <td>0.701225</td>\n",
       "      <td>0.717562</td>\n",
       "      <td>-0.477773</td>\n",
       "      <td>0.079826</td>\n",
       "      <td>0.282853</td>\n",
       "      <td>0.566330</td>\n",
       "    </tr>\n",
       "    <tr>\n",
       "      <th>121056</th>\n",
       "      <td>-0.728785</td>\n",
       "      <td>0.875942</td>\n",
       "      <td>2.746940</td>\n",
       "      <td>3.600335</td>\n",
       "      <td>-0.428297</td>\n",
       "      <td>1.733079</td>\n",
       "      <td>0.341788</td>\n",
       "      <td>0.408112</td>\n",
       "      <td>-0.515489</td>\n",
       "      <td>0.321599</td>\n",
       "      <td>...</td>\n",
       "      <td>-0.142936</td>\n",
       "      <td>-0.193070</td>\n",
       "      <td>-0.176526</td>\n",
       "      <td>-0.007535</td>\n",
       "      <td>0.094436</td>\n",
       "      <td>-0.095701</td>\n",
       "      <td>-0.089224</td>\n",
       "      <td>0.020340</td>\n",
       "      <td>0.009879</td>\n",
       "      <td>0.070568</td>\n",
       "    </tr>\n",
       "    <tr>\n",
       "      <th>68325</th>\n",
       "      <td>1.313295</td>\n",
       "      <td>0.743211</td>\n",
       "      <td>-0.747210</td>\n",
       "      <td>0.743147</td>\n",
       "      <td>0.476920</td>\n",
       "      <td>-1.140341</td>\n",
       "      <td>0.493613</td>\n",
       "      <td>-0.364560</td>\n",
       "      <td>-0.341693</td>\n",
       "      <td>-0.752380</td>\n",
       "      <td>...</td>\n",
       "      <td>0.034220</td>\n",
       "      <td>-0.170869</td>\n",
       "      <td>-0.364747</td>\n",
       "      <td>-0.161581</td>\n",
       "      <td>-0.188810</td>\n",
       "      <td>0.683951</td>\n",
       "      <td>0.395223</td>\n",
       "      <td>-0.022326</td>\n",
       "      <td>0.040778</td>\n",
       "      <td>-0.350191</td>\n",
       "    </tr>\n",
       "    <tr>\n",
       "      <th>112413</th>\n",
       "      <td>-1.885984</td>\n",
       "      <td>1.544625</td>\n",
       "      <td>0.892467</td>\n",
       "      <td>0.108131</td>\n",
       "      <td>-1.479409</td>\n",
       "      <td>0.176344</td>\n",
       "      <td>-1.235871</td>\n",
       "      <td>1.434311</td>\n",
       "      <td>0.015997</td>\n",
       "      <td>-0.604634</td>\n",
       "      <td>...</td>\n",
       "      <td>-0.446744</td>\n",
       "      <td>0.225313</td>\n",
       "      <td>0.097921</td>\n",
       "      <td>0.039288</td>\n",
       "      <td>0.012774</td>\n",
       "      <td>-0.181800</td>\n",
       "      <td>0.219053</td>\n",
       "      <td>-1.031994</td>\n",
       "      <td>-0.168159</td>\n",
       "      <td>-0.334598</td>\n",
       "    </tr>\n",
       "    <tr>\n",
       "      <th>274493</th>\n",
       "      <td>1.450032</td>\n",
       "      <td>-2.278838</td>\n",
       "      <td>-1.026091</td>\n",
       "      <td>-1.135426</td>\n",
       "      <td>0.463888</td>\n",
       "      <td>4.781392</td>\n",
       "      <td>-1.929493</td>\n",
       "      <td>1.341419</td>\n",
       "      <td>2.893264</td>\n",
       "      <td>-0.872925</td>\n",
       "      <td>...</td>\n",
       "      <td>0.373480</td>\n",
       "      <td>0.214166</td>\n",
       "      <td>0.567495</td>\n",
       "      <td>-0.007960</td>\n",
       "      <td>0.828243</td>\n",
       "      <td>-0.430748</td>\n",
       "      <td>0.787980</td>\n",
       "      <td>0.014090</td>\n",
       "      <td>-0.004410</td>\n",
       "      <td>0.646292</td>\n",
       "    </tr>\n",
       "  </tbody>\n",
       "</table>\n",
       "<p>227452 rows × 29 columns</p>\n",
       "</div>"
      ],
      "text/plain": [
       "              V1        V2        V3        V4        V5        V6        V7  \\\n",
       "97346  -0.571288  1.041338 -0.387278 -0.270291  2.217138  3.544165 -0.202079   \n",
       "217179 -1.967238  0.554255 -1.299973 -0.256174  0.406781 -1.026290  0.329060   \n",
       "170860  1.877437 -0.280871 -0.971661  1.361902  0.279510  0.600528 -0.154075   \n",
       "139273 -0.594706  0.114513  1.174700 -2.719161 -0.765407 -0.561110 -0.203208   \n",
       "261706 -0.636945  1.427841 -0.396971 -0.287650  0.468410 -1.036333  0.687422   \n",
       "...          ...       ...       ...       ...       ...       ...       ...   \n",
       "197267 -2.196399 -0.566425  0.318139 -1.739548  1.864122  4.610533  0.436068   \n",
       "121056 -0.728785  0.875942  2.746940  3.600335 -0.428297  1.733079  0.341788   \n",
       "68325   1.313295  0.743211 -0.747210  0.743147  0.476920 -1.140341  0.493613   \n",
       "112413 -1.885984  1.544625  0.892467  0.108131 -1.479409  0.176344 -1.235871   \n",
       "274493  1.450032 -2.278838 -1.026091 -1.135426  0.463888  4.781392 -1.929493   \n",
       "\n",
       "              V8        V9       V10  ...       V20       V21       V22  \\\n",
       "97346   1.308159 -0.929643 -0.437984  ...  0.037924  0.054388 -0.113607   \n",
       "217179  0.463318 -0.369527 -0.113892  ... -0.476551  0.446317  1.480454   \n",
       "170860  0.158697  0.857709  0.132167  ... -0.190473 -0.291126 -0.574839   \n",
       "139273 -0.033307 -2.286526  1.577055  ... -0.080776 -0.124816  0.123826   \n",
       "261706  0.285131 -0.108600 -1.487623  ... -0.076668  0.068521  0.451934   \n",
       "...          ...       ...       ...  ...       ...       ...       ...   \n",
       "197267  1.017167  0.965939 -1.000817  ... -0.405200 -0.407007 -0.586640   \n",
       "121056  0.408112 -0.515489  0.321599  ... -0.142936 -0.193070 -0.176526   \n",
       "68325  -0.364560 -0.341693 -0.752380  ...  0.034220 -0.170869 -0.364747   \n",
       "112413  1.434311  0.015997 -0.604634  ... -0.446744  0.225313  0.097921   \n",
       "274493  1.341419  2.893264 -0.872925  ...  0.373480  0.214166  0.567495   \n",
       "\n",
       "             V23       V24       V25       V26       V27       V28    Amount  \n",
       "97346  -0.098739  0.988138 -0.058267 -0.398840  0.036315  0.080942 -0.297296  \n",
       "217179  0.418463 -0.270901 -0.595308 -0.249885 -0.269762  0.346845 -0.301294  \n",
       "170860  0.186931  0.260812  0.074207 -0.847572  0.027329 -0.045030 -0.193306  \n",
       "139273 -0.110309 -0.029142 -0.229608 -0.417971  0.360552  0.262311 -0.333239  \n",
       "261706 -0.245942 -0.149547 -0.162394  0.590463  0.258894  0.200336 -0.333279  \n",
       "...          ...       ...       ...       ...       ...       ...       ...  \n",
       "197267  0.022877  0.701225  0.717562 -0.477773  0.079826  0.282853  0.566330  \n",
       "121056 -0.007535  0.094436 -0.095701 -0.089224  0.020340  0.009879  0.070568  \n",
       "68325  -0.161581 -0.188810  0.683951  0.395223 -0.022326  0.040778 -0.350191  \n",
       "112413  0.039288  0.012774 -0.181800  0.219053 -1.031994 -0.168159 -0.334598  \n",
       "274493 -0.007960  0.828243 -0.430748  0.787980  0.014090 -0.004410  0.646292  \n",
       "\n",
       "[227452 rows x 29 columns]"
      ]
     },
     "execution_count": 18,
     "metadata": {},
     "output_type": "execute_result"
    }
   ],
   "source": [
    "X_train"
   ]
  },
  {
   "cell_type": "code",
   "execution_count": 19,
   "id": "d71efae3",
   "metadata": {},
   "outputs": [
    {
     "data": {
      "text/plain": [
       "(227452, 29)"
      ]
     },
     "execution_count": 19,
     "metadata": {},
     "output_type": "execute_result"
    }
   ],
   "source": [
    "X_train.shape"
   ]
  },
  {
   "cell_type": "markdown",
   "id": "c1052cbf",
   "metadata": {},
   "source": [
    "### 테스트 데이터"
   ]
  },
  {
   "cell_type": "code",
   "execution_count": 20,
   "id": "069a8c3f",
   "metadata": {},
   "outputs": [],
   "source": [
    "y_test = X_test['Class'].values\n",
    "x_test = X_test.drop( columns=['Class']).values"
   ]
  },
  {
   "cell_type": "code",
   "execution_count": 21,
   "id": "d433b725",
   "metadata": {},
   "outputs": [
    {
     "data": {
      "text/plain": [
       "(56962, 29)"
      ]
     },
     "execution_count": 21,
     "metadata": {},
     "output_type": "execute_result"
    }
   ],
   "source": [
    "x_test.shape"
   ]
  },
  {
   "cell_type": "markdown",
   "id": "848d811b",
   "metadata": {},
   "source": [
    "### 학습"
   ]
  },
  {
   "cell_type": "code",
   "execution_count": 28,
   "id": "a0c2661f",
   "metadata": {
    "collapsed": true
   },
   "outputs": [
    {
     "name": "stdout",
     "output_type": "stream",
     "text": [
      "Epoch 1/30\n",
      "7108/7108 [==============================] - 11s 1ms/step - loss: 0.2162\n",
      "Epoch 2/30\n",
      "7108/7108 [==============================] - 9s 1ms/step - loss: 0.1026\n",
      "Epoch 3/30\n",
      "7108/7108 [==============================] - 9s 1ms/step - loss: 0.0832\n",
      "Epoch 4/30\n",
      "7108/7108 [==============================] - 9s 1ms/step - loss: 0.0764\n",
      "Epoch 5/30\n",
      "7108/7108 [==============================] - 9s 1ms/step - loss: 0.0719\n",
      "Epoch 6/30\n",
      "7108/7108 [==============================] - 9s 1ms/step - loss: 0.0663\n",
      "Epoch 7/30\n",
      "7108/7108 [==============================] - 9s 1ms/step - loss: 0.0642\n",
      "Epoch 8/30\n",
      "7108/7108 [==============================] - 9s 1ms/step - loss: 0.0593\n",
      "Epoch 9/30\n",
      "7108/7108 [==============================] - 9s 1ms/step - loss: 0.0558\n",
      "Epoch 10/30\n",
      "7108/7108 [==============================] - 9s 1ms/step - loss: 0.0536\n",
      "Epoch 11/30\n",
      "7108/7108 [==============================] - 9s 1ms/step - loss: 0.0515\n",
      "Epoch 12/30\n",
      "7108/7108 [==============================] - 9s 1ms/step - loss: 0.0516\n",
      "Epoch 13/30\n",
      "7108/7108 [==============================] - 10s 1ms/step - loss: 0.0481\n",
      "Epoch 14/30\n",
      "7108/7108 [==============================] - 9s 1ms/step - loss: 0.0490\n",
      "Epoch 15/30\n",
      "7108/7108 [==============================] - 9s 1ms/step - loss: 0.0470\n",
      "Epoch 16/30\n",
      "7108/7108 [==============================] - 10s 1ms/step - loss: 0.0471\n",
      "Epoch 17/30\n",
      "7108/7108 [==============================] - 10s 1ms/step - loss: 0.0467\n",
      "Epoch 18/30\n",
      "7108/7108 [==============================] - 10s 1ms/step - loss: 0.0466\n",
      "Epoch 19/30\n",
      "7108/7108 [==============================] - 9s 1ms/step - loss: 0.0459\n",
      "Epoch 20/30\n",
      "7108/7108 [==============================] - 9s 1ms/step - loss: 0.0452\n",
      "Epoch 21/30\n",
      "7108/7108 [==============================] - 9s 1ms/step - loss: 0.0465\n",
      "Epoch 22/30\n",
      "7108/7108 [==============================] - 9s 1ms/step - loss: 0.0528\n",
      "Epoch 23/30\n",
      "7108/7108 [==============================] - 9s 1ms/step - loss: 0.0530\n",
      "Epoch 24/30\n",
      "7108/7108 [==============================] - 9s 1ms/step - loss: 0.0433\n",
      "Epoch 25/30\n",
      "7108/7108 [==============================] - 9s 1ms/step - loss: 0.0436\n",
      "Epoch 26/30\n",
      "7108/7108 [==============================] - 9s 1ms/step - loss: 0.0401\n",
      "Epoch 27/30\n",
      "7108/7108 [==============================] - 9s 1ms/step - loss: 0.0437\n",
      "Epoch 28/30\n",
      "7108/7108 [==============================] - 9s 1ms/step - loss: 0.0414\n",
      "Epoch 29/30\n",
      "7108/7108 [==============================] - 9s 1ms/step - loss: 0.0403\n",
      "Epoch 30/30\n",
      "7108/7108 [==============================] - 9s 1ms/step - loss: 0.0397\n"
     ]
    },
    {
     "data": {
      "text/plain": [
       "<keras.src.callbacks.History at 0x26147b34a10>"
      ]
     },
     "execution_count": 28,
     "metadata": {},
     "output_type": "execute_result"
    }
   ],
   "source": [
    "model = Sequential()\n",
    "model.add( Dense( units=64, input_dim=29, activation='relu') )\n",
    "model.add( Dense( units=32, activation='relu') )\n",
    "model.add( Dense( units=16, activation='relu') )\n",
    "model.add( Dense( units=16, activation='relu') )\n",
    "model.add( Dense( units=32, activation='relu') )\n",
    "model.add( Dense( units=29) )\n",
    "model.compile(loss='mse', optimizer='adam')\n",
    "model.fit( X_train, X_train, epochs=30)"
   ]
  },
  {
   "cell_type": "code",
   "execution_count": 29,
   "id": "1609b2dd",
   "metadata": {
    "collapsed": true
   },
   "outputs": [
    {
     "name": "stdout",
     "output_type": "stream",
     "text": [
      "1781/1781 [==============================] - 2s 1ms/step\n"
     ]
    },
    {
     "data": {
      "text/plain": [
       "array([[-0.522005  ,  0.20643842,  1.2982452 , ...,  0.10906059,\n",
       "         0.23081216, -0.4296326 ],\n",
       "       [-2.342004  ,  0.59944874,  0.12365079, ...,  0.3494692 ,\n",
       "         0.24632251,  0.4534555 ],\n",
       "       [ 1.2493303 , -1.7758754 , -2.1251116 , ..., -0.01406986,\n",
       "         0.11994228,  0.96664995],\n",
       "       ...,\n",
       "       [-0.5862902 , -0.62146294,  2.4032621 , ...,  0.19072145,\n",
       "         0.21847662, -0.4541865 ],\n",
       "       [-0.4080956 , -0.02197981,  1.1926187 , ...,  0.12484411,\n",
       "         0.19049206, -0.40208054],\n",
       "       [ 1.5538657 , -0.07313168, -0.6622232 , ..., -0.02146273,\n",
       "         0.04827264, -0.58452153]], dtype=float32)"
      ]
     },
     "execution_count": 29,
     "metadata": {},
     "output_type": "execute_result"
    }
   ],
   "source": [
    "pred = model.predict(x_test)\n",
    "pred"
   ]
  },
  {
   "cell_type": "code",
   "execution_count": 30,
   "id": "7cdc8e31",
   "metadata": {},
   "outputs": [
    {
     "data": {
      "text/plain": [
       "(56962, 29)"
      ]
     },
     "execution_count": 30,
     "metadata": {},
     "output_type": "execute_result"
    }
   ],
   "source": [
    "x_test.shape"
   ]
  },
  {
   "cell_type": "code",
   "execution_count": 31,
   "id": "4e0fa22f",
   "metadata": {},
   "outputs": [
    {
     "data": {
      "text/plain": [
       "(56962, 29)"
      ]
     },
     "execution_count": 31,
     "metadata": {},
     "output_type": "execute_result"
    }
   ],
   "source": [
    "pred.shape"
   ]
  },
  {
   "cell_type": "code",
   "execution_count": 32,
   "id": "42c56188",
   "metadata": {},
   "outputs": [],
   "source": [
    "mse = np.mean( (x_test-pred)**2 , axis=1) "
   ]
  },
  {
   "cell_type": "code",
   "execution_count": 33,
   "id": "8d35a4b5",
   "metadata": {},
   "outputs": [
    {
     "data": {
      "text/plain": [
       "(56962,)"
      ]
     },
     "execution_count": 33,
     "metadata": {},
     "output_type": "execute_result"
    }
   ],
   "source": [
    "mse.shape"
   ]
  },
  {
   "cell_type": "code",
   "execution_count": 36,
   "id": "a4b1d65b",
   "metadata": {},
   "outputs": [
    {
     "data": {
      "text/plain": [
       "array([16., 16.])"
      ]
     },
     "execution_count": 36,
     "metadata": {},
     "output_type": "execute_result"
    }
   ],
   "source": [
    "# ex\n",
    "arr1 = np.array([[1,2],[3,4]])\n",
    "arr2 = np.array([[5,6],[7,8]])\n",
    "np.mean( (arr1-arr2)**2, axis=1)"
   ]
  },
  {
   "cell_type": "code",
   "execution_count": 38,
   "id": "ee92a9a0",
   "metadata": {},
   "outputs": [
    {
     "data": {
      "text/plain": [
       "(56962,)"
      ]
     },
     "execution_count": 38,
     "metadata": {},
     "output_type": "execute_result"
    }
   ],
   "source": [
    "y_test.shape"
   ]
  },
  {
   "cell_type": "code",
   "execution_count": 39,
   "id": "4f7142f2",
   "metadata": {
    "collapsed": true
   },
   "outputs": [
    {
     "data": {
      "text/html": [
       "<div>\n",
       "<style scoped>\n",
       "    .dataframe tbody tr th:only-of-type {\n",
       "        vertical-align: middle;\n",
       "    }\n",
       "\n",
       "    .dataframe tbody tr th {\n",
       "        vertical-align: top;\n",
       "    }\n",
       "\n",
       "    .dataframe thead th {\n",
       "        text-align: right;\n",
       "    }\n",
       "</style>\n",
       "<table border=\"1\" class=\"dataframe\">\n",
       "  <thead>\n",
       "    <tr style=\"text-align: right;\">\n",
       "      <th></th>\n",
       "      <th>mse</th>\n",
       "      <th>trueClass</th>\n",
       "    </tr>\n",
       "  </thead>\n",
       "  <tbody>\n",
       "    <tr>\n",
       "      <th>0</th>\n",
       "      <td>0.063951</td>\n",
       "      <td>0</td>\n",
       "    </tr>\n",
       "    <tr>\n",
       "      <th>1</th>\n",
       "      <td>0.324088</td>\n",
       "      <td>0</td>\n",
       "    </tr>\n",
       "    <tr>\n",
       "      <th>2</th>\n",
       "      <td>0.051373</td>\n",
       "      <td>0</td>\n",
       "    </tr>\n",
       "    <tr>\n",
       "      <th>3</th>\n",
       "      <td>0.052816</td>\n",
       "      <td>0</td>\n",
       "    </tr>\n",
       "    <tr>\n",
       "      <th>4</th>\n",
       "      <td>0.018043</td>\n",
       "      <td>0</td>\n",
       "    </tr>\n",
       "    <tr>\n",
       "      <th>...</th>\n",
       "      <td>...</td>\n",
       "      <td>...</td>\n",
       "    </tr>\n",
       "    <tr>\n",
       "      <th>56957</th>\n",
       "      <td>0.023343</td>\n",
       "      <td>0</td>\n",
       "    </tr>\n",
       "    <tr>\n",
       "      <th>56958</th>\n",
       "      <td>0.033471</td>\n",
       "      <td>0</td>\n",
       "    </tr>\n",
       "    <tr>\n",
       "      <th>56959</th>\n",
       "      <td>0.049534</td>\n",
       "      <td>0</td>\n",
       "    </tr>\n",
       "    <tr>\n",
       "      <th>56960</th>\n",
       "      <td>0.074886</td>\n",
       "      <td>0</td>\n",
       "    </tr>\n",
       "    <tr>\n",
       "      <th>56961</th>\n",
       "      <td>0.026478</td>\n",
       "      <td>0</td>\n",
       "    </tr>\n",
       "  </tbody>\n",
       "</table>\n",
       "<p>56962 rows × 2 columns</p>\n",
       "</div>"
      ],
      "text/plain": [
       "            mse  trueClass\n",
       "0      0.063951          0\n",
       "1      0.324088          0\n",
       "2      0.051373          0\n",
       "3      0.052816          0\n",
       "4      0.018043          0\n",
       "...         ...        ...\n",
       "56957  0.023343          0\n",
       "56958  0.033471          0\n",
       "56959  0.049534          0\n",
       "56960  0.074886          0\n",
       "56961  0.026478          0\n",
       "\n",
       "[56962 rows x 2 columns]"
      ]
     },
     "execution_count": 39,
     "metadata": {},
     "output_type": "execute_result"
    }
   ],
   "source": [
    "errDF = pd.DataFrame( {'mse':mse, 'trueClass':y_test} )\n",
    "errDF"
   ]
  },
  {
   "cell_type": "code",
   "execution_count": 40,
   "id": "7b83a0f4",
   "metadata": {
    "collapsed": true
   },
   "outputs": [
    {
     "data": {
      "image/png": "[encoded data removed]",
      "text/plain": [
       "<Figure size 640x480 with 1 Axes>"
      ]
     },
     "metadata": {},
     "output_type": "display_data"
    }
   ],
   "source": [
    "plt.scatter( range(len(errDF)), errDF['mse'] )\n",
    "plt.show()"
   ]
  },
  {
   "cell_type": "code",
   "execution_count": 43,
   "id": "da5317f3",
   "metadata": {},
   "outputs": [
    {
     "data": {
      "text/plain": [
       "0"
      ]
     },
     "execution_count": 43,
     "metadata": {},
     "output_type": "execute_result"
    }
   ],
   "source": [
    "False + 0"
   ]
  },
  {
   "cell_type": "code",
   "execution_count": 79,
   "id": "ad5160e4",
   "metadata": {},
   "outputs": [],
   "source": [
    "thresh = 3.1"
   ]
  },
  {
   "cell_type": "code",
   "execution_count": 80,
   "id": "8d5a63d9",
   "metadata": {},
   "outputs": [],
   "source": [
    "predClass = (errDF['mse'] > thresh) + 0"
   ]
  },
  {
   "cell_type": "code",
   "execution_count": 52,
   "id": "3557e59a",
   "metadata": {},
   "outputs": [],
   "source": [
    "from sklearn.metrics import accuracy_score, f1_score, confusion_matrix"
   ]
  },
  {
   "cell_type": "code",
   "execution_count": 81,
   "id": "81bb09e5",
   "metadata": {},
   "outputs": [
    {
     "data": {
      "text/plain": [
       "0.998121554720691"
      ]
     },
     "execution_count": 81,
     "metadata": {},
     "output_type": "execute_result"
    }
   ],
   "source": [
    "accuracy_score(errDF['trueClass'], predClass)"
   ]
  },
  {
   "cell_type": "code",
   "execution_count": 82,
   "id": "b50f5f11",
   "metadata": {},
   "outputs": [
    {
     "data": {
      "text/plain": [
       "0.30065359477124176"
      ]
     },
     "execution_count": 82,
     "metadata": {},
     "output_type": "execute_result"
    }
   ],
   "source": [
    "f1_score(errDF['trueClass'], predClass)"
   ]
  },
  {
   "cell_type": "code",
   "execution_count": 87,
   "id": "b57e03c9",
   "metadata": {},
   "outputs": [],
   "source": [
    "c = confusion_matrix( errDF['trueClass'], predClass)"
   ]
  },
  {
   "cell_type": "code",
   "execution_count": 89,
   "id": "42288a3e",
   "metadata": {},
   "outputs": [],
   "source": [
    "import seaborn as sb"
   ]
  },
  {
   "cell_type": "code",
   "execution_count": 90,
   "id": "447fbd3f",
   "metadata": {},
   "outputs": [
    {
     "data": {
      "text/plain": [
       "<Axes: >"
      ]
     },
     "execution_count": 90,
     "metadata": {},
     "output_type": "execute_result"
    },
    {
     "data": {
      "image/png": "[encoded data removed]",
      "text/plain": [
       "<Figure size 1000x800 with 2 Axes>"
      ]
     },
     "metadata": {},
     "output_type": "display_data"
    }
   ],
   "source": [
    "plt.figure( figsize=(10,8))\n",
    "sb.heatmap( c, cmap='summer', annot=True, linewidths=0.2, fmt='d',\n",
    "          xticklabels=LABELS, yticklabels=LABELS)"
   ]
  },
  {
   "cell_type": "markdown",
   "id": "bf7273bc",
   "metadata": {},
   "source": [
    "### LSTM 다대다 오토 인코더"
   ]
  },
  {
   "cell_type": "code",
   "execution_count": null,
   "id": "96cae8c6",
   "metadata": {},
   "outputs": [],
   "source": [
    "model = Sequential()\n",
    "model.add(LSTM(128, activation='relu',input_shape=(X.shape[1],X.shape[2]),return_sequences=True))\n",
    "model.add(LSTM(64, activation='relu',return_sequences=True))\n",
    "model.add(LSTM(32, activation='relu', return_sequences=True))\n",
    "model.add(LSTM(32, activation='relu', return_sequences=True))\n",
    "model.add(LSTM(64, activation='relu', return_sequences=True))\n",
    "#     model.add( BatchNormalization())\n",
    "model.add(LSTM(128, activation='relu', return_sequences=True))\n",
    "model.add(TimeDistributed(Dense(X.shape[2])))\n",
    "model.compile(optimizer='adam', loss='mse')\n",
    "model.summary()"
   ]
  }
 ],
 "metadata": {
  "kernelspec": {
   "display_name": "Python 3 (ipykernel)",
   "language": "python",
   "name": "python3"
  },
  "language_info": {
   "codemirror_mode": {
    "name": "ipython",
    "version": 3
   },
   "file_extension": ".py",
   "mimetype": "text/x-python",
   "name": "python",
   "nbconvert_exporter": "python",
   "pygments_lexer": "ipython3",
   "version": "3.11.3"
  }
 },
 "nbformat": 4,
 "nbformat_minor": 5
}
